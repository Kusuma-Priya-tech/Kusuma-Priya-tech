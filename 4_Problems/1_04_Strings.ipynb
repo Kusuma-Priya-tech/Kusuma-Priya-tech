{
  "cells": [
    {
      "cell_type": "markdown",
      "metadata": {
        "id": "view-in-github",
        "colab_type": "text"
      },
      "source": [
        "<a href=\"https://colab.research.google.com/github/Kusuma-Priya-tech/Kusuma-Priya-tech/blob/main/4_Problems/1_04_Strings.ipynb\" target=\"_parent\"><img src=\"https://colab.research.google.com/assets/colab-badge.svg\" alt=\"Open In Colab\"/></a>"
      ]
    },
    {
      "cell_type": "markdown",
      "id": "1ecc411a",
      "metadata": {
        "id": "1ecc411a"
      },
      "source": [
        "<a target=\"_blank\" href=\"https://colab.research.google.com/github/lukebarousse/Python_Data_Analytics_Course/blob/main/4_Problems/1_04_Strings.ipynb\">\n",
        "  <img src=\"https://colab.research.google.com/assets/colab-badge.svg\" alt=\"Open In Colab\"/>\n",
        "</a>"
      ]
    },
    {
      "cell_type": "markdown",
      "id": "c03b0f9a",
      "metadata": {
        "id": "c03b0f9a"
      },
      "source": [
        "## 🟩 Convert to Uppercase (1.4.1)"
      ]
    },
    {
      "cell_type": "code",
      "execution_count": 2,
      "id": "ed154db0",
      "metadata": {
        "id": "ed154db0",
        "outputId": "1cdb9302-9dc1-42f2-9f8a-95c4cfc77712",
        "colab": {
          "base_uri": "https://localhost:8080/",
          "height": 36
        }
      },
      "outputs": [
        {
          "output_type": "execute_result",
          "data": {
            "text/plain": [
              "'DATA SCIENTIST'"
            ],
            "application/vnd.google.colaboratory.intrinsic+json": {
              "type": "string"
            }
          },
          "metadata": {},
          "execution_count": 2
        }
      ],
      "source": [
        "# Code Needed\n",
        "job_title = 'data scientist'\n",
        "job_title.upper()\n"
      ]
    },
    {
      "cell_type": "markdown",
      "id": "352397ff",
      "metadata": {
        "id": "352397ff"
      },
      "source": [
        "---"
      ]
    },
    {
      "cell_type": "markdown",
      "id": "4203b265",
      "metadata": {
        "id": "4203b265"
      },
      "source": [
        "## 🟩 Replace Substring (1.4.2)"
      ]
    },
    {
      "cell_type": "code",
      "execution_count": 3,
      "id": "9088a3fb",
      "metadata": {
        "id": "9088a3fb",
        "outputId": "de747fdf-c517-4741-b3aa-a1d01323c724",
        "colab": {
          "base_uri": "https://localhost:8080/",
          "height": 36
        }
      },
      "outputs": [
        {
          "output_type": "execute_result",
          "data": {
            "text/plain": [
              "'Data Analyst'"
            ],
            "application/vnd.google.colaboratory.intrinsic+json": {
              "type": "string"
            }
          },
          "metadata": {},
          "execution_count": 3
        }
      ],
      "source": [
        "# Code Needed\n",
        "job_title = 'Data Analyst'\n",
        "job_title.replace(\"analyst\", \" scientist\")\n"
      ]
    },
    {
      "cell_type": "markdown",
      "id": "d3b7cb4d",
      "metadata": {
        "id": "d3b7cb4d"
      },
      "source": [
        "---"
      ]
    },
    {
      "cell_type": "markdown",
      "id": "23c6e347",
      "metadata": {
        "id": "23c6e347"
      },
      "source": [
        "## 🟨 Concatenate Strings (1.4.3)"
      ]
    },
    {
      "cell_type": "code",
      "execution_count": 4,
      "id": "1c7fb9f8",
      "metadata": {
        "id": "1c7fb9f8",
        "outputId": "16186f08-ed18-43ab-d087-bef5d2f2e7d0",
        "colab": {
          "base_uri": "https://localhost:8080/"
        }
      },
      "outputs": [
        {
          "output_type": "stream",
          "name": "stdout",
          "text": [
            "Senior Data Analyst\n"
          ]
        }
      ],
      "source": [
        "# Code Needed\n",
        "seniority_level = 'Senior'\n",
        "job_title = 'Data Analyst'\n",
        "final_title = seniority_level + ' ' + job_title\n",
        "print(final_title)"
      ]
    },
    {
      "cell_type": "markdown",
      "id": "cc76f111",
      "metadata": {
        "id": "cc76f111"
      },
      "source": [
        "---"
      ]
    },
    {
      "cell_type": "markdown",
      "id": "ec722767",
      "metadata": {
        "id": "ec722767"
      },
      "source": [
        "## 🟨 Check String Length (1.4.4)"
      ]
    },
    {
      "cell_type": "code",
      "execution_count": 5,
      "id": "9f81d0d5",
      "metadata": {
        "id": "9f81d0d5",
        "outputId": "7e9bd306-f266-4e25-aa2d-596f186b6ade",
        "colab": {
          "base_uri": "https://localhost:8080/"
        }
      },
      "outputs": [
        {
          "output_type": "stream",
          "name": "stdout",
          "text": [
            "14\n"
          ]
        }
      ],
      "source": [
        "# Code Needed\n",
        "job_title = 'Data Scientist'\n",
        "job_title_length = len(job_title)\n",
        "print(job_title_length)"
      ]
    },
    {
      "cell_type": "markdown",
      "id": "4a8d3a3c",
      "metadata": {
        "id": "4a8d3a3c"
      },
      "source": [
        "---"
      ]
    },
    {
      "cell_type": "markdown",
      "id": "c41c4f1a",
      "metadata": {
        "id": "c41c4f1a"
      },
      "source": [
        "## 🟩 Convert to lowercase (1.4.5)"
      ]
    },
    {
      "cell_type": "code",
      "execution_count": 6,
      "id": "74a3336c",
      "metadata": {
        "id": "74a3336c",
        "outputId": "878b2b46-cbbf-4d06-858f-0b74d79700bc",
        "colab": {
          "base_uri": "https://localhost:8080/"
        }
      },
      "outputs": [
        {
          "output_type": "stream",
          "name": "stdout",
          "text": [
            "data engineer\n"
          ]
        }
      ],
      "source": [
        "# Code Needed\n",
        "job_title = 'DATA ENGINEER'\n",
        "job_title_lower = job_title.lower()\n",
        "print(job_title_lower)"
      ]
    },
    {
      "cell_type": "markdown",
      "id": "bfce44ab",
      "metadata": {
        "id": "bfce44ab"
      },
      "source": [
        "---"
      ]
    }
  ],
  "metadata": {
    "colab": {
      "provenance": [],
      "include_colab_link": true
    },
    "language_info": {
      "name": "python"
    },
    "kernelspec": {
      "name": "python3",
      "display_name": "Python 3"
    }
  },
  "nbformat": 4,
  "nbformat_minor": 5
}