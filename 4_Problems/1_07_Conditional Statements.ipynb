{
  "cells": [
    {
      "cell_type": "markdown",
      "metadata": {
        "id": "view-in-github",
        "colab_type": "text"
      },
      "source": [
        "<a href=\"https://colab.research.google.com/github/Kusuma-Priya-tech/Kusuma-Priya-tech/blob/main/4_Problems/1_07_Conditional%20Statements.ipynb\" target=\"_parent\"><img src=\"https://colab.research.google.com/assets/colab-badge.svg\" alt=\"Open In Colab\"/></a>"
      ]
    },
    {
      "cell_type": "markdown",
      "id": "e3327670",
      "metadata": {
        "id": "e3327670"
      },
      "source": [
        "<a target=\"_blank\" href=\"https://colab.research.google.com/github/lukebarousse/Python_Data_Analytics_Course/blob/main/4_Problems/1_07_Conditional Statements.ipynb\">\n",
        "  <img src=\"https://colab.research.google.com/assets/colab-badge.svg\" alt=\"Open In Colab\"/>\n",
        "</a>"
      ]
    },
    {
      "cell_type": "markdown",
      "id": "2aaa1761",
      "metadata": {
        "id": "2aaa1761"
      },
      "source": [
        "## 🟩 Determine Python Experience (1.7.1)"
      ]
    },
    {
      "cell_type": "code",
      "execution_count": 6,
      "id": "9eaa2dc1",
      "metadata": {
        "id": "9eaa2dc1",
        "outputId": "28330428-27d8-413a-e40a-6eed421ccb02",
        "colab": {
          "base_uri": "https://localhost:8080/"
        }
      },
      "outputs": [
        {
          "output_type": "stream",
          "name": "stdout",
          "text": [
            "intermediate\n"
          ]
        }
      ],
      "source": [
        "# Code Needed\n",
        "python_experience = 3\n",
        "if python_experience < 2:\n",
        "  print(\"beginner\")\n",
        "else:\n",
        "  python_experience >2\n",
        "  print(\"intermediate\")"
      ]
    },
    {
      "cell_type": "markdown",
      "id": "e5985de7",
      "metadata": {
        "id": "e5985de7"
      },
      "source": [
        "---"
      ]
    },
    {
      "cell_type": "markdown",
      "id": "1d103802",
      "metadata": {
        "id": "1d103802"
      },
      "source": [
        "## 🟨 Determine Job Skill Level (1.7.2)"
      ]
    },
    {
      "cell_type": "code",
      "execution_count": 4,
      "id": "bb543cdd",
      "metadata": {
        "id": "bb543cdd",
        "outputId": "fe99f297-d511-43ee-bbd8-ea7ab771c023",
        "colab": {
          "base_uri": "https://localhost:8080/"
        }
      },
      "outputs": [
        {
          "output_type": "stream",
          "name": "stdout",
          "text": [
            "intermediate\n"
          ]
        }
      ],
      "source": [
        "# Code Needed\n",
        "tools_known = 3\n",
        "if tools_known <= 1:\n",
        "    print(\"beginner\")\n",
        "elif tools_known <=5:\n",
        "    print(\"intermediate\")\n",
        "else:\n",
        "    skill_level = \"advanced\"\n",
        "    print(\"advanded\")\n",
        "\n"
      ]
    },
    {
      "cell_type": "markdown",
      "id": "fdf0324b",
      "metadata": {
        "id": "fdf0324b"
      },
      "source": [
        "---"
      ]
    },
    {
      "cell_type": "markdown",
      "id": "847f3e27",
      "metadata": {
        "id": "847f3e27"
      },
      "source": [
        "## 🟥 Determine Job Title (1.7.3)"
      ]
    },
    {
      "cell_type": "markdown",
      "id": "5a5189c6",
      "metadata": {
        "id": "5a5189c6"
      },
      "source": [
        "---"
      ]
    }
  ],
  "metadata": {
    "colab": {
      "provenance": [],
      "include_colab_link": true
    },
    "language_info": {
      "name": "python"
    },
    "kernelspec": {
      "name": "python3",
      "display_name": "Python 3"
    }
  },
  "nbformat": 4,
  "nbformat_minor": 5
}