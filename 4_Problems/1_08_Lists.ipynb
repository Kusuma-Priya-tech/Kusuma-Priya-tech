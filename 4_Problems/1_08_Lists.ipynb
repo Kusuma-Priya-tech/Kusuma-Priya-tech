{
  "cells": [
    {
      "cell_type": "markdown",
      "metadata": {
        "id": "view-in-github",
        "colab_type": "text"
      },
      "source": [
        "<a href=\"https://colab.research.google.com/github/Kusuma-Priya-tech/Kusuma-Priya-tech/blob/main/4_Problems/1_08_Lists.ipynb\" target=\"_parent\"><img src=\"https://colab.research.google.com/assets/colab-badge.svg\" alt=\"Open In Colab\"/></a>"
      ]
    },
    {
      "cell_type": "markdown",
      "id": "1324a683",
      "metadata": {
        "id": "1324a683"
      },
      "source": [
        "<a target=\"_blank\" href=\"https://colab.research.google.com/github/lukebarousse/Python_Data_Analytics_Course/blob/main/4_Problems/1_08_Lists.ipynb\">\n",
        "  <img src=\"https://colab.research.google.com/assets/colab-badge.svg\" alt=\"Open In Colab\"/>\n",
        "</a>"
      ]
    },
    {
      "cell_type": "markdown",
      "id": "1838d998",
      "metadata": {
        "id": "1838d998"
      },
      "source": [
        "## 🟩 Access Second Job Title (1.8.1)"
      ]
    },
    {
      "cell_type": "code",
      "execution_count": 4,
      "id": "1985369d",
      "metadata": {
        "id": "1985369d",
        "outputId": "088590ac-a2a3-4d58-9cdb-bd63f31d20ea",
        "colab": {
          "base_uri": "https://localhost:8080/"
        }
      },
      "outputs": [
        {
          "output_type": "execute_result",
          "data": {
            "text/plain": [
              "['Data Scientist']"
            ]
          },
          "metadata": {},
          "execution_count": 4
        }
      ],
      "source": [
        "# Code Needed\n",
        "job_titles = ['Data Scientist', 'Data Analyst', 'Machine Learning Engineer']\n",
        "job_titles[:1]"
      ]
    },
    {
      "cell_type": "markdown",
      "id": "51c4691d",
      "metadata": {
        "id": "51c4691d"
      },
      "source": [
        "---"
      ]
    },
    {
      "cell_type": "markdown",
      "id": "845d3703",
      "metadata": {
        "id": "845d3703"
      },
      "source": [
        "## 🟩 Change Third Job Title (1.8.2)"
      ]
    },
    {
      "cell_type": "code",
      "execution_count": 7,
      "id": "ec22c646",
      "metadata": {
        "id": "ec22c646",
        "outputId": "95ca5c19-212d-4652-a367-950c1dce026b",
        "colab": {
          "base_uri": "https://localhost:8080/"
        }
      },
      "outputs": [
        {
          "output_type": "execute_result",
          "data": {
            "text/plain": [
              "['Data Scientist', 'Data Analyst', 'ai specialist']"
            ]
          },
          "metadata": {},
          "execution_count": 7
        }
      ],
      "source": [
        "# Code Needed\n",
        "job_titles = ['Data Scientist', 'Data Analyst', 'Machine Learning Engineer']\n",
        "job_titles[2] = \"ai specialist\"\n",
        "job_titles\n"
      ]
    },
    {
      "cell_type": "markdown",
      "id": "f0432a95",
      "metadata": {
        "id": "f0432a95"
      },
      "source": [
        "---"
      ]
    },
    {
      "cell_type": "markdown",
      "id": "03761a20",
      "metadata": {
        "id": "03761a20"
      },
      "source": [
        "## 🟩 Slice Job Titles List (1.8.3)"
      ]
    },
    {
      "cell_type": "code",
      "execution_count": 12,
      "id": "6e2440ca",
      "metadata": {
        "id": "6e2440ca",
        "outputId": "47223de5-dc3e-48a4-f6c6-7e5a1251afc9",
        "colab": {
          "base_uri": "https://localhost:8080/"
        }
      },
      "outputs": [
        {
          "output_type": "execute_result",
          "data": {
            "text/plain": [
              "['Data Scientist',\n",
              " 'Data Analyst',\n",
              " 'Machine Learning Engineer',\n",
              " 'Data Engineer']"
            ]
          },
          "metadata": {},
          "execution_count": 12
        }
      ],
      "source": [
        "# Code Needed\n",
        "job_titles = ['Data Scientist', 'Data Analyst', 'Machine Learning Engineer', 'Data Engineer']\n",
        "job_titles[:4]"
      ]
    },
    {
      "cell_type": "markdown",
      "id": "574cb0d1",
      "metadata": {
        "id": "574cb0d1"
      },
      "source": [
        "---"
      ]
    },
    {
      "cell_type": "markdown",
      "id": "251109f7",
      "metadata": {
        "id": "251109f7"
      },
      "source": [
        "## 🟨 Append Job Title (1.8.4)"
      ]
    },
    {
      "cell_type": "code",
      "execution_count": 16,
      "id": "fa121574",
      "metadata": {
        "id": "fa121574",
        "outputId": "ca8da5de-7855-4486-f6a3-af8e9aac227c",
        "colab": {
          "base_uri": "https://localhost:8080/"
        }
      },
      "outputs": [
        {
          "output_type": "execute_result",
          "data": {
            "text/plain": [
              "['Data Scientist', 'Data Analyst', 'Machine Learning Engineer', 'ai engineer']"
            ]
          },
          "metadata": {},
          "execution_count": 16
        }
      ],
      "source": [
        "# Code Needed\n",
        "job_titles = ['Data Scientist', 'Data Analyst', 'Machine Learning Engineer']\n",
        "job_titles.append(\"ai engineer\")\n",
        "job_titles\n",
        "\n"
      ]
    },
    {
      "cell_type": "markdown",
      "id": "af25c586",
      "metadata": {
        "id": "af25c586"
      },
      "source": [
        "---"
      ]
    },
    {
      "cell_type": "markdown",
      "id": "e5b2814d",
      "metadata": {
        "id": "e5b2814d"
      },
      "source": [
        "## 🟨 Insert Job Title (1.8.5)"
      ]
    },
    {
      "cell_type": "code",
      "execution_count": 17,
      "id": "82ac8332",
      "metadata": {
        "id": "82ac8332",
        "outputId": "63d9f10b-a55d-4528-caf9-162514398046",
        "colab": {
          "base_uri": "https://localhost:8080/"
        }
      },
      "outputs": [
        {
          "output_type": "execute_result",
          "data": {
            "text/plain": [
              "['Data Scientist', 'ai engineer', 'Data Analyst', 'Machine Learning Engineer']"
            ]
          },
          "metadata": {},
          "execution_count": 17
        }
      ],
      "source": [
        "# Code Needed\n",
        "job_titles = ['Data Scientist', 'Data Analyst', 'Machine Learning Engineer']\n",
        "job_titles.insert(1, \"ai engineer\")\n",
        "job_titles"
      ]
    },
    {
      "cell_type": "markdown",
      "id": "5c04345c",
      "metadata": {
        "id": "5c04345c"
      },
      "source": [
        "---"
      ]
    }
  ],
  "metadata": {
    "colab": {
      "provenance": [],
      "include_colab_link": true
    },
    "language_info": {
      "name": "python"
    },
    "kernelspec": {
      "name": "python3",
      "display_name": "Python 3"
    }
  },
  "nbformat": 4,
  "nbformat_minor": 5
}