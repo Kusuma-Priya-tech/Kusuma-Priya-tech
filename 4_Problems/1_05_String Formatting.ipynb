{
  "cells": [
    {
      "cell_type": "markdown",
      "id": "707277df",
      "metadata": {
        "id": "707277df"
      },
      "source": [
        "<a target=\"_blank\" href=\"https://colab.research.google.com/github/lukebarousse/Python_Data_Analytics_Course/blob/main/4_Problems/1_05_String Formatting.ipynb\">\n",
        "  <img src=\"https://colab.research.google.com/assets/colab-badge.svg\" alt=\"Open In Colab\"/>\n",
        "</a>"
      ]
    },
    {
      "cell_type": "markdown",
      "id": "33249ddd",
      "metadata": {
        "id": "33249ddd"
      },
      "source": [
        "## 🟩 Concatenate Strings (1.5.1)"
      ]
    },
    {
      "cell_type": "code",
      "execution_count": 4,
      "id": "f5eb44b1",
      "metadata": {
        "id": "f5eb44b1",
        "outputId": "b51b3a36-68cc-4930-fe8b-a35c8aa20a58",
        "colab": {
          "base_uri": "https://localhost:8080/"
        }
      },
      "outputs": [
        {
          "output_type": "stream",
          "name": "stdout",
          "text": [
            "job_title:  Data Scientist\n"
          ]
        }
      ],
      "source": [
        "# Code Needed\n",
        "job_title = 'Data Scientist'\n",
        "print(\"job_title: \", job_title)"
      ]
    },
    {
      "cell_type": "markdown",
      "id": "ceadadd2",
      "metadata": {
        "id": "ceadadd2"
      },
      "source": [
        "---"
      ]
    },
    {
      "cell_type": "markdown",
      "id": "4b752a3b",
      "metadata": {
        "id": "4b752a3b"
      },
      "source": [
        "## 🟩 Format with f-strings (1.5.2)"
      ]
    },
    {
      "cell_type": "code",
      "execution_count": 9,
      "id": "f1dd6630",
      "metadata": {
        "id": "f1dd6630",
        "outputId": "8fb446f2-5d52-40e3-937b-97c96b9220eb",
        "colab": {
          "base_uri": "https://localhost:8080/",
          "height": 36
        }
      },
      "outputs": [
        {
          "output_type": "execute_result",
          "data": {
            "text/plain": [
              "'postion: Data Scientist; company: DataWiz Inc.'"
            ],
            "application/vnd.google.colaboratory.intrinsic+json": {
              "type": "string"
            }
          },
          "metadata": {},
          "execution_count": 9
        }
      ],
      "source": [
        "# Code Needed\n",
        "position = 'Data Scientist'\n",
        "company = 'DataWiz Inc.'\n",
        "f'postion: {position}; company: {company}'"
      ]
    },
    {
      "cell_type": "markdown",
      "id": "f3b9b437",
      "metadata": {
        "id": "f3b9b437"
      },
      "source": [
        "---"
      ]
    },
    {
      "cell_type": "markdown",
      "id": "7ccbfb33",
      "metadata": {
        "id": "7ccbfb33"
      },
      "source": [
        "## 🟩 Format with str.format() (1.5.3)"
      ]
    },
    {
      "cell_type": "code",
      "execution_count": 11,
      "id": "3ad6287a",
      "metadata": {
        "id": "3ad6287a",
        "outputId": "00527178-df8a-449d-fbb6-d84754904b58",
        "colab": {
          "base_uri": "https://localhost:8080/",
          "height": 36
        }
      },
      "outputs": [
        {
          "output_type": "execute_result",
          "data": {
            "text/plain": [
              "'role: Data Analyst; skill: Python'"
            ],
            "application/vnd.google.colaboratory.intrinsic+json": {
              "type": "string"
            }
          },
          "metadata": {},
          "execution_count": 11
        }
      ],
      "source": [
        "# Code Needed\n",
        "role = 'Data Analyst'\n",
        "skill = 'Python'\n",
        "\"role: {}; skill: {}\".format(role,skill)"
      ]
    },
    {
      "cell_type": "markdown",
      "id": "553e97a6",
      "metadata": {
        "id": "553e97a6"
      },
      "source": [
        "---"
      ]
    },
    {
      "cell_type": "markdown",
      "id": "2539859a",
      "metadata": {
        "id": "2539859a"
      },
      "source": [
        "## 🟨 Format with %-formatting (1.5.4)"
      ]
    },
    {
      "cell_type": "code",
      "execution_count": 15,
      "id": "88cfb9fa",
      "metadata": {
        "id": "88cfb9fa",
        "outputId": "253bbc0e-f4d4-4791-b53f-e073e98486b5",
        "colab": {
          "base_uri": "https://localhost:8080/",
          "height": 36
        }
      },
      "outputs": [
        {
          "output_type": "execute_result",
          "data": {
            "text/plain": [
              "'role: Data Engineer; skill: SQL'"
            ],
            "application/vnd.google.colaboratory.intrinsic+json": {
              "type": "string"
            }
          },
          "metadata": {},
          "execution_count": 15
        }
      ],
      "source": [
        "# Code Needed\n",
        "role = 'Data Engineer'\n",
        "skill = 'SQL'\n",
        "\"role: %s; skill: %s\" %(role,skill)"
      ]
    },
    {
      "cell_type": "markdown",
      "id": "d6081ce3",
      "metadata": {
        "id": "d6081ce3"
      },
      "source": [
        "---"
      ]
    }
  ],
  "metadata": {
    "colab": {
      "provenance": []
    },
    "language_info": {
      "name": "python"
    },
    "kernelspec": {
      "name": "python3",
      "display_name": "Python 3"
    }
  },
  "nbformat": 4,
  "nbformat_minor": 5
}