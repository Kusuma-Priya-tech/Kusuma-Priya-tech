{
  "cells": [
    {
      "cell_type": "markdown",
      "metadata": {
        "id": "view-in-github",
        "colab_type": "text"
      },
      "source": [
        "<a href=\"https://colab.research.google.com/github/Kusuma-Priya-tech/Kusuma-Priya-tech/blob/main/4_Problems/1_06_Operators%20Part%201.ipynb\" target=\"_parent\"><img src=\"https://colab.research.google.com/assets/colab-badge.svg\" alt=\"Open In Colab\"/></a>"
      ]
    },
    {
      "cell_type": "markdown",
      "id": "8ab55aca",
      "metadata": {
        "id": "8ab55aca"
      },
      "source": [
        "<a target=\"_blank\" href=\"https://colab.research.google.com/github/lukebarousse/Python_Data_Analytics_Course/blob/main/4_Problems/1_06_Operators Part 1.ipynb\">\n",
        "  <img src=\"https://colab.research.google.com/assets/colab-badge.svg\" alt=\"Open In Colab\"/>\n",
        "</a>"
      ]
    },
    {
      "cell_type": "markdown",
      "id": "5c28e09e",
      "metadata": {
        "id": "5c28e09e"
      },
      "source": [
        "## 🟩 Calculate Annual Salary (1.6.1)"
      ]
    },
    {
      "cell_type": "code",
      "execution_count": 1,
      "id": "f5eae247",
      "metadata": {
        "id": "f5eae247",
        "outputId": "b9fccc1f-09ca-4e95-9840-d3920f497464",
        "colab": {
          "base_uri": "https://localhost:8080/"
        }
      },
      "outputs": [
        {
          "output_type": "execute_result",
          "data": {
            "text/plain": [
              "96000"
            ]
          },
          "metadata": {},
          "execution_count": 1
        }
      ],
      "source": [
        "# Code Needed\n",
        "monthly_salary = 8000\n",
        "annual_salary = monthly_salary * 12\n",
        "annual_salary"
      ]
    },
    {
      "cell_type": "markdown",
      "id": "75a63b15",
      "metadata": {
        "id": "75a63b15"
      },
      "source": [
        "---"
      ]
    },
    {
      "cell_type": "markdown",
      "id": "9f50032f",
      "metadata": {
        "id": "9f50032f"
      },
      "source": [
        "## 🟩 Compare Salaries (1.6.2)"
      ]
    },
    {
      "cell_type": "code",
      "execution_count": 2,
      "id": "d74e5eec",
      "metadata": {
        "id": "d74e5eec",
        "outputId": "edf90fd7-c01d-484e-ca5c-4e7636d3506b",
        "colab": {
          "base_uri": "https://localhost:8080/"
        }
      },
      "outputs": [
        {
          "output_type": "execute_result",
          "data": {
            "text/plain": [
              "False"
            ]
          },
          "metadata": {},
          "execution_count": 2
        }
      ],
      "source": [
        "# Code Needed\n",
        "avg_salary_analyst = 70000\n",
        "avg_salary_scientist = 85000\n",
        "avg_salary_analyst == avg_salary_scientist"
      ]
    },
    {
      "cell_type": "markdown",
      "id": "53cabe65",
      "metadata": {
        "id": "53cabe65"
      },
      "source": [
        "---"
      ]
    },
    {
      "cell_type": "markdown",
      "id": "a0898aab",
      "metadata": {
        "id": "a0898aab"
      },
      "source": [
        "## 🟨 Calculate Remainder (1.6.3)"
      ]
    },
    {
      "cell_type": "code",
      "execution_count": 3,
      "id": "97e2ce73",
      "metadata": {
        "id": "97e2ce73",
        "outputId": "51280d02-be8c-48b8-cfbb-5fecfb87b340",
        "colab": {
          "base_uri": "https://localhost:8080/"
        }
      },
      "outputs": [
        {
          "output_type": "execute_result",
          "data": {
            "text/plain": [
              "56"
            ]
          },
          "metadata": {},
          "execution_count": 3
        }
      ],
      "source": [
        "# Code Needed\n",
        "total_applications = 123\n",
        "job_openings = 67\n",
        "total_applications % job_openings"
      ]
    },
    {
      "cell_type": "markdown",
      "id": "f069d320",
      "metadata": {
        "id": "f069d320"
      },
      "source": [
        "---"
      ]
    },
    {
      "cell_type": "markdown",
      "id": "45fb92ab",
      "metadata": {
        "id": "45fb92ab"
      },
      "source": [
        "## 🟨 Increment Job Postings (1.6.4)"
      ]
    },
    {
      "cell_type": "code",
      "execution_count": 4,
      "id": "c05ce14e",
      "metadata": {
        "id": "c05ce14e",
        "outputId": "4f0a4a9d-0cf9-49df-d73b-c71946501434",
        "colab": {
          "base_uri": "https://localhost:8080/"
        }
      },
      "outputs": [
        {
          "output_type": "execute_result",
          "data": {
            "text/plain": [
              "30"
            ]
          },
          "metadata": {},
          "execution_count": 4
        }
      ],
      "source": [
        "# Code Needed\n",
        "job_postings = 20\n",
        "job_postings += 10\n",
        "job_postings\n"
      ]
    },
    {
      "cell_type": "markdown",
      "id": "c4bf5251",
      "metadata": {
        "id": "c4bf5251"
      },
      "source": [
        "---"
      ]
    },
    {
      "cell_type": "markdown",
      "id": "ffe080db",
      "metadata": {
        "id": "ffe080db"
      },
      "source": [
        "## 🟨 Calculate Average Salary (1.6.5)"
      ]
    },
    {
      "cell_type": "code",
      "execution_count": 5,
      "id": "c5bb9dc1",
      "metadata": {
        "id": "c5bb9dc1",
        "outputId": "19daff1e-ed30-497c-d4ef-c7fde2cd5fc1",
        "colab": {
          "base_uri": "https://localhost:8080/"
        }
      },
      "outputs": [
        {
          "output_type": "execute_result",
          "data": {
            "text/plain": [
              "85000.0"
            ]
          },
          "metadata": {},
          "execution_count": 5
        }
      ],
      "source": [
        "# Code Needed\n",
        "min_salary = 50000\n",
        "max_salary = 120000\n",
        "avg_salary = (min_salary + max_salary) / 2\n",
        "avg_salary"
      ]
    },
    {
      "cell_type": "markdown",
      "id": "156db404",
      "metadata": {
        "id": "156db404"
      },
      "source": [
        "---"
      ]
    }
  ],
  "metadata": {
    "language_info": {
      "name": "python"
    },
    "colab": {
      "provenance": [],
      "include_colab_link": true
    },
    "kernelspec": {
      "name": "python3",
      "display_name": "Python 3"
    }
  },
  "nbformat": 4,
  "nbformat_minor": 5
}