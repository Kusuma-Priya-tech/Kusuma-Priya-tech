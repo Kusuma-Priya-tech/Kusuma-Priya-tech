{
  "cells": [
    {
      "cell_type": "markdown",
      "metadata": {
        "id": "view-in-github",
        "colab_type": "text"
      },
      "source": [
        "<a href=\"https://colab.research.google.com/github/Kusuma-Priya-tech/Kusuma-Priya-tech/blob/main/4_Problems/1_03_Data%20Types.ipynb\" target=\"_parent\"><img src=\"https://colab.research.google.com/assets/colab-badge.svg\" alt=\"Open In Colab\"/></a>"
      ]
    },
    {
      "cell_type": "markdown",
      "id": "7ab4aeb5",
      "metadata": {
        "id": "7ab4aeb5"
      },
      "source": [
        "<a target=\"_blank\" href=\"https://colab.research.google.com/github/lukebarousse/Python_Data_Analytics_Course/blob/main/4_Problems/1_03_Data Types.ipynb\">\n",
        "  <img src=\"https://colab.research.google.com/assets/colab-badge.svg\" alt=\"Open In Colab\"/>\n",
        "</a>"
      ]
    },
    {
      "cell_type": "markdown",
      "id": "5574e3d0",
      "metadata": {
        "id": "5574e3d0"
      },
      "source": [
        "## 🟩 Check Data Type (1.3.1)"
      ]
    },
    {
      "cell_type": "code",
      "execution_count": 1,
      "id": "ca389065",
      "metadata": {
        "id": "ca389065",
        "outputId": "9522feb3-9630-476a-dada-b50c02ed7edf",
        "colab": {
          "base_uri": "https://localhost:8080/"
        }
      },
      "outputs": [
        {
          "output_type": "stream",
          "name": "stdout",
          "text": [
            "<class 'str'>\n"
          ]
        }
      ],
      "source": [
        "# Code Needed\n",
        "job_title = 'Data Scientist'\n",
        "print(type(job_title))"
      ]
    },
    {
      "cell_type": "markdown",
      "id": "7b166e5c",
      "metadata": {
        "id": "7b166e5c"
      },
      "source": [
        "---"
      ]
    },
    {
      "cell_type": "markdown",
      "id": "bc4093b6",
      "metadata": {
        "id": "bc4093b6"
      },
      "source": [
        "## 🟩 Check Float Type (1.3.2)"
      ]
    },
    {
      "cell_type": "code",
      "execution_count": 2,
      "id": "07954965",
      "metadata": {
        "id": "07954965",
        "outputId": "7ac5639d-8584-47c9-cd67-bc11fd9d58f5",
        "colab": {
          "base_uri": "https://localhost:8080/"
        }
      },
      "outputs": [
        {
          "output_type": "stream",
          "name": "stdout",
          "text": [
            "<class 'float'>\n"
          ]
        }
      ],
      "source": [
        "# Code Needed\n",
        "salary = 85000.50\n",
        "print(type(salary))"
      ]
    },
    {
      "cell_type": "markdown",
      "id": "37ad30b0",
      "metadata": {
        "id": "37ad30b0"
      },
      "source": [
        "---"
      ]
    },
    {
      "cell_type": "markdown",
      "id": "ba5f1ead",
      "metadata": {
        "id": "ba5f1ead"
      },
      "source": [
        "## 🟨 Convert to Integer (1.3.3)"
      ]
    },
    {
      "cell_type": "code",
      "execution_count": 3,
      "id": "4ab358e6",
      "metadata": {
        "id": "4ab358e6",
        "outputId": "683fbcc6-88fc-4da0-ce22-484a4c8b7980",
        "colab": {
          "base_uri": "https://localhost:8080/"
        }
      },
      "outputs": [
        {
          "output_type": "stream",
          "name": "stdout",
          "text": [
            "<class 'int'>\n"
          ]
        }
      ],
      "source": [
        "# Code Needed\n",
        "salary_rate = 120000.75\n",
        "salary_rate = int(salary_rate)\n",
        "print(type(salary_rate))"
      ]
    },
    {
      "cell_type": "markdown",
      "id": "5cd8185f",
      "metadata": {
        "id": "5cd8185f"
      },
      "source": [
        "---"
      ]
    },
    {
      "cell_type": "markdown",
      "id": "54a9cf24",
      "metadata": {
        "id": "54a9cf24"
      },
      "source": [
        "## 🟥 Check String Type (1.3.4)"
      ]
    },
    {
      "cell_type": "code",
      "execution_count": 4,
      "id": "b34b708d",
      "metadata": {
        "id": "b34b708d",
        "outputId": "fa533930-e2e3-41d3-9fac-71b7ef22b705",
        "colab": {
          "base_uri": "https://localhost:8080/"
        }
      },
      "outputs": [
        {
          "output_type": "stream",
          "name": "stdout",
          "text": [
            "True\n"
          ]
        }
      ],
      "source": [
        "# Code Needed\n",
        "company_name = 'DataWiz Inc.'\n",
        "print(isinstance(company_name,str))"
      ]
    },
    {
      "cell_type": "markdown",
      "id": "d3225984",
      "metadata": {
        "id": "d3225984"
      },
      "source": [
        "---"
      ]
    }
  ],
  "metadata": {
    "colab": {
      "provenance": [],
      "include_colab_link": true
    },
    "language_info": {
      "name": "python"
    },
    "kernelspec": {
      "name": "python3",
      "display_name": "Python 3"
    }
  },
  "nbformat": 4,
  "nbformat_minor": 5
}